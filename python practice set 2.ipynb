{
 "cells": [
  {
   "cell_type": "markdown",
   "id": "13fc54b4",
   "metadata": {},
   "source": [
    "### Q1. Create a list in python using the followings: 2,3,4,5,6,7 with variable ‘a’\n",
    "Add ‘mango to the above list\n",
    "Also add banana, grapes & orange in the list\n",
    "insert apple in the 5th position of a variable ‘a’\n",
    "Remove last item from the list"
   ]
  },
  {
   "cell_type": "code",
   "execution_count": 1,
   "id": "3597d785",
   "metadata": {},
   "outputs": [],
   "source": [
    "a=[2,3,4,5,6,7]"
   ]
  },
  {
   "cell_type": "code",
   "execution_count": 2,
   "id": "5b81ec33",
   "metadata": {},
   "outputs": [
    {
     "data": {
      "text/plain": [
       "[2, 3, 4, 5, 6, 7, 'mango']"
      ]
     },
     "execution_count": 2,
     "metadata": {},
     "output_type": "execute_result"
    }
   ],
   "source": [
    "#Add ‘mango to the above list\n",
    "a.append('mango')\n",
    "a"
   ]
  },
  {
   "cell_type": "code",
   "execution_count": 3,
   "id": "bc5912d7",
   "metadata": {},
   "outputs": [
    {
     "data": {
      "text/plain": [
       "[2, 3, 4, 5, 6, 7, 'mango', 'banana', 'grapes', 'orange']"
      ]
     },
     "execution_count": 3,
     "metadata": {},
     "output_type": "execute_result"
    }
   ],
   "source": [
    "#Also add banana, grapes & orange in the list\n",
    "\n",
    "a=a+['banana','grapes','orange']\n",
    "a"
   ]
  },
  {
   "cell_type": "code",
   "execution_count": 6,
   "id": "6ed44fd4",
   "metadata": {},
   "outputs": [
    {
     "data": {
      "text/plain": [
       "[2, 3, 4, 5, 'apple', 'apple', 6, 7, 'mango', 'banana', 'grapes', 'orange']"
      ]
     },
     "execution_count": 6,
     "metadata": {},
     "output_type": "execute_result"
    }
   ],
   "source": [
    "# insert apple in the 5th position of a variable ‘a’\n",
    "a.insert(4,'apple')\n",
    "a"
   ]
  },
  {
   "cell_type": "code",
   "execution_count": 8,
   "id": "7670b0b5",
   "metadata": {
    "scrolled": true
   },
   "outputs": [
    {
     "data": {
      "text/plain": [
       "'orange'"
      ]
     },
     "execution_count": 8,
     "metadata": {},
     "output_type": "execute_result"
    }
   ],
   "source": [
    "a.pop()"
   ]
  },
  {
   "cell_type": "code",
   "execution_count": 9,
   "id": "883dd04c",
   "metadata": {},
   "outputs": [
    {
     "data": {
      "text/plain": [
       "[2, 3, 4, 5, 'apple', 'apple', 6, 7, 'mango', 'banana', 'grapes']"
      ]
     },
     "execution_count": 9,
     "metadata": {},
     "output_type": "execute_result"
    }
   ],
   "source": [
    "a"
   ]
  },
  {
   "cell_type": "markdown",
   "id": "77b1b0cb",
   "metadata": {},
   "source": [
    "### Q2. L = [1,2,3,4,5,6,7] \n",
    "### Using the above list slice from 1:4"
   ]
  },
  {
   "cell_type": "code",
   "execution_count": 12,
   "id": "2c9eccbc",
   "metadata": {},
   "outputs": [
    {
     "data": {
      "text/plain": [
       "[2, 3, 4]"
      ]
     },
     "execution_count": 12,
     "metadata": {},
     "output_type": "execute_result"
    }
   ],
   "source": [
    "L = [1,2,3,4,5,6,7]\n",
    "L[1:4]"
   ]
  },
  {
   "cell_type": "markdown",
   "id": "7b170f4e",
   "metadata": {},
   "source": [
    "### Q3. Reverse the order of given string L = [4,5,6,8,3] Without using reverse() function."
   ]
  },
  {
   "cell_type": "code",
   "execution_count": 13,
   "id": "61d25c32",
   "metadata": {},
   "outputs": [
    {
     "data": {
      "text/plain": [
       "[3, 8, 6, 5, 4]"
      ]
     },
     "execution_count": 13,
     "metadata": {},
     "output_type": "execute_result"
    }
   ],
   "source": [
    "L = [4,5,6,8,3]\n",
    "# reversed\n",
    "L[::-1]"
   ]
  },
  {
   "cell_type": "markdown",
   "id": "5b6e0bf9",
   "metadata": {},
   "source": [
    "### Q4. Use list comprehension to square the given list L=[2,4,7,3,6,8]"
   ]
  },
  {
   "cell_type": "code",
   "execution_count": 14,
   "id": "0c11c625",
   "metadata": {},
   "outputs": [],
   "source": [
    "L=[2,4,7,3,6,8]\n",
    "\n",
    "L=[i**2 for i in L ]"
   ]
  },
  {
   "cell_type": "code",
   "execution_count": 15,
   "id": "b11965ca",
   "metadata": {},
   "outputs": [
    {
     "data": {
      "text/plain": [
       "[4, 16, 49, 9, 36, 64]"
      ]
     },
     "execution_count": 15,
     "metadata": {},
     "output_type": "execute_result"
    }
   ],
   "source": [
    "L"
   ]
  },
  {
   "cell_type": "markdown",
   "id": "564672ab",
   "metadata": {},
   "source": [
    "### Q5. Create a function that takes in a tuple of integers and returns the sum of the integers. Test the function with a tuple of your choice."
   ]
  },
  {
   "cell_type": "code",
   "execution_count": 17,
   "id": "1b3fbe62",
   "metadata": {},
   "outputs": [
    {
     "name": "stdout",
     "output_type": "stream",
     "text": [
      "10\n"
     ]
    }
   ],
   "source": [
    "def tuple_sum(tup):\n",
    "    return sum(tup)\n",
    "\n",
    "my_tup=(1,2,3,4)\n",
    "print(tuple_sum(my_tup))"
   ]
  },
  {
   "cell_type": "markdown",
   "id": "3348650e",
   "metadata": {},
   "source": [
    "### Q6. Create two sets of your favourite fruits, and use the union() method to combine them into a single set. Print the resulting set to the console. "
   ]
  },
  {
   "cell_type": "code",
   "execution_count": 18,
   "id": "5d51114c",
   "metadata": {},
   "outputs": [
    {
     "name": "stdout",
     "output_type": "stream",
     "text": [
      "{'orange', 'pear', 'apple', 'kiwi', 'banana', 'grape'}\n"
     ]
    }
   ],
   "source": [
    "fruits1 = {\"apple\", \"banana\", \"pear\"}\n",
    "fruits2 = {\"orange\", \"grape\", \"kiwi\"}\n",
    "combined_fruits = fruits1.union(fruits2)\n",
    "print(combined_fruits)"
   ]
  },
  {
   "cell_type": "markdown",
   "id": "51ae7bd4",
   "metadata": {},
   "source": [
    "### Q7. Create a set of random words, and use the add() method to add a new word to the set. Print the resulting set to the console."
   ]
  },
  {
   "cell_type": "code",
   "execution_count": 19,
   "id": "850cc3ea",
   "metadata": {},
   "outputs": [
    {
     "name": "stdout",
     "output_type": "stream",
     "text": [
      "{'yash', 'ash', 'pokemon', 'ketchum'}\n"
     ]
    }
   ],
   "source": [
    "ran_word={'yash','ash','ketchum'}\n",
    "ran_word.add(\"pokemon\")\n",
    "\n",
    "print(ran_word)"
   ]
  },
  {
   "cell_type": "markdown",
   "id": "b0313e6e",
   "metadata": {},
   "source": [
    "### Q8. Create a set of your favourite animals, and use the remove() method to remove one animal from the set. Print the resulting set to the console."
   ]
  },
  {
   "cell_type": "code",
   "execution_count": 20,
   "id": "5586da88",
   "metadata": {},
   "outputs": [],
   "source": [
    "animals={'dog','parrot','cat'}\n",
    "\n",
    "animals.remove('parrot')"
   ]
  },
  {
   "cell_type": "code",
   "execution_count": 21,
   "id": "24278c34",
   "metadata": {},
   "outputs": [
    {
     "data": {
      "text/plain": [
       "{'cat', 'dog'}"
      ]
     },
     "execution_count": 21,
     "metadata": {},
     "output_type": "execute_result"
    }
   ],
   "source": [
    "animals"
   ]
  },
  {
   "cell_type": "markdown",
   "id": "44fcdd4e",
   "metadata": {},
   "source": [
    "### Q9.\n",
    "favorite_books = {\"1984\", \"To Kill a Mockingbird\", \"Pride and Prejudice\"}\n",
    "\n",
    "favorite_movies = [\"The Shawshank Redemption\", \"The Godfather\", \"The Dark Knight\"]\n",
    "\n",
    "Use the zip() function to combine the book set and movie list into a list of tuples representing book/\n",
    "movie pairs. Print the resulting list."
   ]
  },
  {
   "cell_type": "code",
   "execution_count": 22,
   "id": "5a3c37ee",
   "metadata": {},
   "outputs": [],
   "source": [
    "favorite_books = {\"1984\", \"To Kill a Mockingbird\", \"Pride and Prejudice\"}\n",
    "favorite_movies = [\"The Shawshank Redemption\", \"The Godfather\", \"The Dark Knight\"]"
   ]
  },
  {
   "cell_type": "code",
   "execution_count": 23,
   "id": "4def0ed1",
   "metadata": {},
   "outputs": [
    {
     "data": {
      "text/plain": [
       "[('1984', 'The Shawshank Redemption'),\n",
       " ('To Kill a Mockingbird', 'The Godfather'),\n",
       " ('Pride and Prejudice', 'The Dark Knight')]"
      ]
     },
     "execution_count": 23,
     "metadata": {},
     "output_type": "execute_result"
    }
   ],
   "source": [
    "pair=list(zip(favorite_books,favorite_movies))\n",
    "\n",
    "pair"
   ]
  },
  {
   "cell_type": "markdown",
   "id": "60b2ca4d",
   "metadata": {},
   "source": [
    "### Q10. Write a Python program to find the difference between consecutive numbers in a list."
   ]
  },
  {
   "cell_type": "code",
   "execution_count": 26,
   "id": "5ada5463",
   "metadata": {},
   "outputs": [],
   "source": [
    "def find_diffr(lst):\n",
    "    difference=[]\n",
    "    \n",
    "    for i in range(1,len(lst)):\n",
    "        diff=lst[i]-lst[i-1]\n",
    "        difference.append(diff)\n",
    "        \n",
    "    return difference    \n",
    "        "
   ]
  },
  {
   "cell_type": "code",
   "execution_count": 28,
   "id": "5213d85d",
   "metadata": {},
   "outputs": [
    {
     "data": {
      "text/plain": [
       "[2, -1, 5, 2]"
      ]
     },
     "execution_count": 28,
     "metadata": {},
     "output_type": "execute_result"
    }
   ],
   "source": [
    "lst=[1,3,2,7,9]\n",
    "\n",
    "find_diffr(lst)"
   ]
  },
  {
   "cell_type": "code",
   "execution_count": null,
   "id": "e58d9299",
   "metadata": {},
   "outputs": [],
   "source": []
  }
 ],
 "metadata": {
  "kernelspec": {
   "display_name": "Python 3 (ipykernel)",
   "language": "python",
   "name": "python3"
  },
  "language_info": {
   "codemirror_mode": {
    "name": "ipython",
    "version": 3
   },
   "file_extension": ".py",
   "mimetype": "text/x-python",
   "name": "python",
   "nbconvert_exporter": "python",
   "pygments_lexer": "ipython3",
   "version": "3.9.7"
  }
 },
 "nbformat": 4,
 "nbformat_minor": 5
}
